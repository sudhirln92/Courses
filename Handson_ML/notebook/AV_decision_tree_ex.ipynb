{
 "cells": [
  {
   "cell_type": "markdown",
   "metadata": {},
   "source": [
    "## Decision tree"
   ]
  },
  {
   "cell_type": "code",
   "execution_count": 2,
   "metadata": {},
   "outputs": [],
   "source": [
    "import pandas as pd\n",
    "import numpy as np\n",
    "from sklearn.preprocessing import LabelEncoder\n",
    "from sklearn.tree import DecisionTreeClassifier\n",
    "from sklearn.tree import export_graphviz\n",
    "import graphviz\n",
    "seed =42"
   ]
  },
  {
   "cell_type": "code",
   "execution_count": 14,
   "metadata": {},
   "outputs": [
    {
     "data": {
      "text/html": [
       "<div>\n",
       "<style scoped>\n",
       "    .dataframe tbody tr th:only-of-type {\n",
       "        vertical-align: middle;\n",
       "    }\n",
       "\n",
       "    .dataframe tbody tr th {\n",
       "        vertical-align: top;\n",
       "    }\n",
       "\n",
       "    .dataframe thead th {\n",
       "        text-align: right;\n",
       "    }\n",
       "</style>\n",
       "<table border=\"1\" class=\"dataframe\">\n",
       "  <thead>\n",
       "    <tr style=\"text-align: right;\">\n",
       "      <th></th>\n",
       "      <th>Cricket</th>\n",
       "      <th>Gender</th>\n",
       "      <th>Class</th>\n",
       "    </tr>\n",
       "  </thead>\n",
       "  <tbody>\n",
       "    <tr>\n",
       "      <th>25</th>\n",
       "      <td>Not_play</td>\n",
       "      <td>Female</td>\n",
       "      <td>X</td>\n",
       "    </tr>\n",
       "    <tr>\n",
       "      <th>26</th>\n",
       "      <td>Not_play</td>\n",
       "      <td>Female</td>\n",
       "      <td>X</td>\n",
       "    </tr>\n",
       "    <tr>\n",
       "      <th>27</th>\n",
       "      <td>Not_play</td>\n",
       "      <td>Female</td>\n",
       "      <td>X</td>\n",
       "    </tr>\n",
       "    <tr>\n",
       "      <th>28</th>\n",
       "      <td>Not_play</td>\n",
       "      <td>Female</td>\n",
       "      <td>X</td>\n",
       "    </tr>\n",
       "    <tr>\n",
       "      <th>29</th>\n",
       "      <td>Not_play</td>\n",
       "      <td>Female</td>\n",
       "      <td>X</td>\n",
       "    </tr>\n",
       "  </tbody>\n",
       "</table>\n",
       "</div>"
      ],
      "text/plain": [
       "     Cricket  Gender Class\n",
       "25  Not_play  Female     X\n",
       "26  Not_play  Female     X\n",
       "27  Not_play  Female     X\n",
       "28  Not_play  Female     X\n",
       "29  Not_play  Female     X"
      ]
     },
     "execution_count": 14,
     "metadata": {},
     "output_type": "execute_result"
    }
   ],
   "source": [
    "student_data = pd.DataFrame(dict(Cricket = ['Play'] * 15 + ['Not_play'] * 15,\n",
    "     Gender = ['Male'] * 13 + ['Female'] * 2 + ['Male'] * 7 + ['Female'] * 8,\n",
    "    Class = ['IX'] * 6 + ['X'] * 9 + ['IX'] * 9+ ['X'] * 6))\n",
    "student_data.tail()"
   ]
  },
  {
   "cell_type": "code",
   "execution_count": 15,
   "metadata": {},
   "outputs": [
    {
     "data": {
      "text/html": [
       "<div>\n",
       "<style scoped>\n",
       "    .dataframe tbody tr th:only-of-type {\n",
       "        vertical-align: middle;\n",
       "    }\n",
       "\n",
       "    .dataframe tbody tr th {\n",
       "        vertical-align: top;\n",
       "    }\n",
       "\n",
       "    .dataframe thead th {\n",
       "        text-align: right;\n",
       "    }\n",
       "</style>\n",
       "<table border=\"1\" class=\"dataframe\">\n",
       "  <thead>\n",
       "    <tr style=\"text-align: right;\">\n",
       "      <th></th>\n",
       "      <th>Cricket</th>\n",
       "      <th>Gender</th>\n",
       "      <th>Class</th>\n",
       "    </tr>\n",
       "  </thead>\n",
       "  <tbody>\n",
       "    <tr>\n",
       "      <th>count</th>\n",
       "      <td>30</td>\n",
       "      <td>30</td>\n",
       "      <td>30</td>\n",
       "    </tr>\n",
       "    <tr>\n",
       "      <th>unique</th>\n",
       "      <td>2</td>\n",
       "      <td>2</td>\n",
       "      <td>2</td>\n",
       "    </tr>\n",
       "    <tr>\n",
       "      <th>top</th>\n",
       "      <td>Not_play</td>\n",
       "      <td>Male</td>\n",
       "      <td>X</td>\n",
       "    </tr>\n",
       "    <tr>\n",
       "      <th>freq</th>\n",
       "      <td>15</td>\n",
       "      <td>20</td>\n",
       "      <td>15</td>\n",
       "    </tr>\n",
       "  </tbody>\n",
       "</table>\n",
       "</div>"
      ],
      "text/plain": [
       "         Cricket Gender Class\n",
       "count         30     30    30\n",
       "unique         2      2     2\n",
       "top     Not_play   Male     X\n",
       "freq          15     20    15"
      ]
     },
     "execution_count": 15,
     "metadata": {},
     "output_type": "execute_result"
    }
   ],
   "source": [
    "student_data.describe()"
   ]
  },
  {
   "cell_type": "code",
   "execution_count": 16,
   "metadata": {},
   "outputs": [],
   "source": [
    "# encoder\n",
    "le = LabelEncoder()\n",
    "for i in student_data.columns:\n",
    "    student_data[i]= le.fit_transform(student_data[i])\n",
    "student_data.head()\n",
    "X = student_data.drop('Cricket',axis=1)\n",
    "y = student_data['Cricket']"
   ]
  },
  {
   "cell_type": "markdown",
   "metadata": {},
   "source": [
    "## Decision tree using *Gini* criterion"
   ]
  },
  {
   "cell_type": "code",
   "execution_count": 23,
   "metadata": {},
   "outputs": [
    {
     "data": {
      "image/svg+xml": [
       "<?xml version=\"1.0\" encoding=\"UTF-8\" standalone=\"no\"?>\n",
       "<!DOCTYPE svg PUBLIC \"-//W3C//DTD SVG 1.1//EN\"\n",
       " \"http://www.w3.org/Graphics/SVG/1.1/DTD/svg11.dtd\">\n",
       "<!-- Generated by graphviz version 2.40.1 (20161225.0304)\n",
       " -->\n",
       "<!-- Title: Tree Pages: 1 -->\n",
       "<svg width=\"240pt\" height=\"195pt\"\n",
       " viewBox=\"0.00 0.00 240.00 195.00\" xmlns=\"http://www.w3.org/2000/svg\" xmlns:xlink=\"http://www.w3.org/1999/xlink\">\n",
       "<g id=\"graph0\" class=\"graph\" transform=\"scale(1 1) rotate(0) translate(4 191)\">\n",
       "<title>Tree</title>\n",
       "<polygon fill=\"#ffffff\" stroke=\"transparent\" points=\"-4,4 -4,-191 236,-191 236,4 -4,4\"/>\n",
       "<!-- 0 -->\n",
       "<g id=\"node1\" class=\"node\">\n",
       "<title>0</title>\n",
       "<path fill=\"transparent\" stroke=\"#000000\" d=\"M154,-187C154,-187 68,-187 68,-187 62,-187 56,-181 56,-175 56,-175 56,-116 56,-116 56,-110 62,-104 68,-104 68,-104 154,-104 154,-104 160,-104 166,-110 166,-116 166,-116 166,-175 166,-175 166,-181 160,-187 154,-187\"/>\n",
       "<text text-anchor=\"middle\" x=\"111\" y=\"-171.8\" font-family=\"Helvetica,sans-Serif\" font-size=\"14.00\" fill=\"#000000\">Gender &lt;= 0.5</text>\n",
       "<text text-anchor=\"middle\" x=\"111\" y=\"-156.8\" font-family=\"Helvetica,sans-Serif\" font-size=\"14.00\" fill=\"#000000\">gini = 0.5</text>\n",
       "<text text-anchor=\"middle\" x=\"111\" y=\"-141.8\" font-family=\"Helvetica,sans-Serif\" font-size=\"14.00\" fill=\"#000000\">samples = 30</text>\n",
       "<text text-anchor=\"middle\" x=\"111\" y=\"-126.8\" font-family=\"Helvetica,sans-Serif\" font-size=\"14.00\" fill=\"#000000\">value = [15, 15]</text>\n",
       "<text text-anchor=\"middle\" x=\"111\" y=\"-111.8\" font-family=\"Helvetica,sans-Serif\" font-size=\"14.00\" fill=\"#000000\">class = Play</text>\n",
       "</g>\n",
       "<!-- 1 -->\n",
       "<g id=\"node2\" class=\"node\">\n",
       "<title>1</title>\n",
       "<path fill=\"#e58139\" fill-opacity=\"0.749020\" stroke=\"#000000\" d=\"M86,-68C86,-68 12,-68 12,-68 6,-68 0,-62 0,-56 0,-56 0,-12 0,-12 0,-6 6,0 12,0 12,0 86,0 86,0 92,0 98,-6 98,-12 98,-12 98,-56 98,-56 98,-62 92,-68 86,-68\"/>\n",
       "<text text-anchor=\"middle\" x=\"49\" y=\"-52.8\" font-family=\"Helvetica,sans-Serif\" font-size=\"14.00\" fill=\"#000000\">gini = 0.32</text>\n",
       "<text text-anchor=\"middle\" x=\"49\" y=\"-37.8\" font-family=\"Helvetica,sans-Serif\" font-size=\"14.00\" fill=\"#000000\">samples = 10</text>\n",
       "<text text-anchor=\"middle\" x=\"49\" y=\"-22.8\" font-family=\"Helvetica,sans-Serif\" font-size=\"14.00\" fill=\"#000000\">value = [8, 2]</text>\n",
       "<text text-anchor=\"middle\" x=\"49\" y=\"-7.8\" font-family=\"Helvetica,sans-Serif\" font-size=\"14.00\" fill=\"#000000\">class = Play</text>\n",
       "</g>\n",
       "<!-- 0&#45;&gt;1 -->\n",
       "<g id=\"edge1\" class=\"edge\">\n",
       "<title>0&#45;&gt;1</title>\n",
       "<path fill=\"none\" stroke=\"#000000\" d=\"M87.9135,-103.9815C83.0585,-95.2504 77.926,-86.0202 73.0371,-77.2281\"/>\n",
       "<polygon fill=\"#000000\" stroke=\"#000000\" points=\"75.9712,-75.3025 68.0524,-68.2637 69.8533,-78.7043 75.9712,-75.3025\"/>\n",
       "<text text-anchor=\"middle\" x=\"61.1936\" y=\"-88.6044\" font-family=\"Helvetica,sans-Serif\" font-size=\"14.00\" fill=\"#000000\">True</text>\n",
       "</g>\n",
       "<!-- 2 -->\n",
       "<g id=\"node3\" class=\"node\">\n",
       "<title>2</title>\n",
       "<path fill=\"#399de5\" fill-opacity=\"0.462745\" stroke=\"#000000\" d=\"M220,-68C220,-68 128,-68 128,-68 122,-68 116,-62 116,-56 116,-56 116,-12 116,-12 116,-6 122,0 128,0 128,0 220,0 220,0 226,0 232,-6 232,-12 232,-12 232,-56 232,-56 232,-62 226,-68 220,-68\"/>\n",
       "<text text-anchor=\"middle\" x=\"174\" y=\"-52.8\" font-family=\"Helvetica,sans-Serif\" font-size=\"14.00\" fill=\"#000000\">gini = 0.455</text>\n",
       "<text text-anchor=\"middle\" x=\"174\" y=\"-37.8\" font-family=\"Helvetica,sans-Serif\" font-size=\"14.00\" fill=\"#000000\">samples = 20</text>\n",
       "<text text-anchor=\"middle\" x=\"174\" y=\"-22.8\" font-family=\"Helvetica,sans-Serif\" font-size=\"14.00\" fill=\"#000000\">value = [7, 13]</text>\n",
       "<text text-anchor=\"middle\" x=\"174\" y=\"-7.8\" font-family=\"Helvetica,sans-Serif\" font-size=\"14.00\" fill=\"#000000\">class = Not_play</text>\n",
       "</g>\n",
       "<!-- 0&#45;&gt;2 -->\n",
       "<g id=\"edge2\" class=\"edge\">\n",
       "<title>0&#45;&gt;2</title>\n",
       "<path fill=\"none\" stroke=\"#000000\" d=\"M134.4589,-103.9815C139.3922,-95.2504 144.6074,-86.0202 149.5752,-77.2281\"/>\n",
       "<polygon fill=\"#000000\" stroke=\"#000000\" points=\"152.7681,-78.6918 154.6403,-68.2637 146.6737,-75.2483 152.7681,-78.6918\"/>\n",
       "<text text-anchor=\"middle\" x=\"161.3349\" y=\"-88.6506\" font-family=\"Helvetica,sans-Serif\" font-size=\"14.00\" fill=\"#000000\">False</text>\n",
       "</g>\n",
       "</g>\n",
       "</svg>\n"
      ],
      "text/plain": [
       "<graphviz.files.Source at 0x7efc1dbdf4a8>"
      ]
     },
     "execution_count": 23,
     "metadata": {},
     "output_type": "execute_result"
    }
   ],
   "source": [
    "clf = DecisionTreeClassifier(criterion='gini',random_state=seed,max_depth=1)\n",
    "clf.fit(X,y)\n",
    "dot_data = export_graphviz(clf, out_file=None, \n",
    "                           feature_names= student_data.columns[1:].values, \n",
    "                           class_names = ['Play','Not_play'],\n",
    "                           rounded=True,filled=True)\n",
    "graph = graphviz.Source(dot_data)\n",
    "graph"
   ]
  },
  {
   "cell_type": "code",
   "execution_count": 6,
   "metadata": {},
   "outputs": [
    {
     "name": "stdout",
     "output_type": "stream",
     "text": [
      "gini_Gender 0.5 \n",
      "gini_female: 0.31999999999999984 \n",
      "gini_male 0.45499999999999996 \n",
      "Gini_index 0.4099999999999999\n"
     ]
    }
   ],
   "source": [
    "gini_Gender = 1 - (15/30)**2 - (15/30)**2 # Gini For Gender Parent \n",
    "\n",
    "gini_female = 1- ((8/10)**2 + (2/10)**2 ) # Gini Female\n",
    "gini_male = 1 - ((7/20)**2 + (13/20) **2) # Gini Male\n",
    "Gini_index = 10/30 * gini_female + 2/3 * gini_male # Gini Index for Gender\n",
    "\n",
    "print('gini_Gender',gini_Gender,'\\ngini_female:',gini_female,'\\ngini_male',gini_male,\n",
    "     '\\nGini_index',Gini_index)"
   ]
  },
  {
   "cell_type": "code",
   "execution_count": 7,
   "metadata": {},
   "outputs": [
    {
     "name": "stdout",
     "output_type": "stream",
     "text": [
      "gini_class 0.4977777777777777 \n",
      "gini_IX: 0.40306122448979587 \n",
      "gini_IX 0.40306122448979587 \n",
      "Gini_index 0.10111111111111111\n"
     ]
    }
   ],
   "source": [
    "# Gini for class attributes IX  play 6/14 class X 9/16\n",
    "gini_class = 1 - (14/30)**2 - (16/30)**2 # Gini For Class\n",
    "\n",
    "gini_IX = 1- ((6/14)**2 + (9/14)**2 ) # Gini IX\n",
    "gini_X = 1 - ((9/16)**2 + (6/16) **2) # Gini X\n",
    "Gini_index = 10/30 *  + 2/3 * .455  # Gini Index for Gender\n",
    "\n",
    "print('gini_class',gini_class,'\\ngini_IX:',gini_IX,'\\ngini_IX',gini_IX,\n",
    "     '\\nGini_index',Gini_index)"
   ]
  },
  {
   "cell_type": "markdown",
   "metadata": {},
   "source": [
    ">Gini Index for **Gender** is > than Gini Index for **Class**. So Gender is condiser for root node split"
   ]
  },
  {
   "cell_type": "markdown",
   "metadata": {},
   "source": [
    "### Decision tree without max depth restriction"
   ]
  },
  {
   "cell_type": "code",
   "execution_count": 8,
   "metadata": {},
   "outputs": [
    {
     "data": {
      "image/svg+xml": [
       "<?xml version=\"1.0\" encoding=\"UTF-8\" standalone=\"no\"?>\n",
       "<!DOCTYPE svg PUBLIC \"-//W3C//DTD SVG 1.1//EN\"\n",
       " \"http://www.w3.org/Graphics/SVG/1.1/DTD/svg11.dtd\">\n",
       "<!-- Generated by graphviz version 2.40.1 (20161225.0304)\n",
       " -->\n",
       "<!-- Title: Tree Pages: 1 -->\n",
       "<svg width=\"472pt\" height=\"314pt\"\n",
       " viewBox=\"0.00 0.00 471.50 314.00\" xmlns=\"http://www.w3.org/2000/svg\" xmlns:xlink=\"http://www.w3.org/1999/xlink\">\n",
       "<g id=\"graph0\" class=\"graph\" transform=\"scale(1 1) rotate(0) translate(4 310)\">\n",
       "<title>Tree</title>\n",
       "<polygon fill=\"#ffffff\" stroke=\"transparent\" points=\"-4,4 -4,-310 467.5,-310 467.5,4 -4,4\"/>\n",
       "<!-- 0 -->\n",
       "<g id=\"node1\" class=\"node\">\n",
       "<title>0</title>\n",
       "<path fill=\"transparent\" stroke=\"#000000\" d=\"M262.5,-306C262.5,-306 176.5,-306 176.5,-306 170.5,-306 164.5,-300 164.5,-294 164.5,-294 164.5,-235 164.5,-235 164.5,-229 170.5,-223 176.5,-223 176.5,-223 262.5,-223 262.5,-223 268.5,-223 274.5,-229 274.5,-235 274.5,-235 274.5,-294 274.5,-294 274.5,-300 268.5,-306 262.5,-306\"/>\n",
       "<text text-anchor=\"middle\" x=\"219.5\" y=\"-290.8\" font-family=\"Helvetica,sans-Serif\" font-size=\"14.00\" fill=\"#000000\">Gender &lt;= 0.5</text>\n",
       "<text text-anchor=\"middle\" x=\"219.5\" y=\"-275.8\" font-family=\"Helvetica,sans-Serif\" font-size=\"14.00\" fill=\"#000000\">gini = 0.5</text>\n",
       "<text text-anchor=\"middle\" x=\"219.5\" y=\"-260.8\" font-family=\"Helvetica,sans-Serif\" font-size=\"14.00\" fill=\"#000000\">samples = 30</text>\n",
       "<text text-anchor=\"middle\" x=\"219.5\" y=\"-245.8\" font-family=\"Helvetica,sans-Serif\" font-size=\"14.00\" fill=\"#000000\">value = [15, 15]</text>\n",
       "<text text-anchor=\"middle\" x=\"219.5\" y=\"-230.8\" font-family=\"Helvetica,sans-Serif\" font-size=\"14.00\" fill=\"#000000\">class = Play</text>\n",
       "</g>\n",
       "<!-- 1 -->\n",
       "<g id=\"node2\" class=\"node\">\n",
       "<title>1</title>\n",
       "<path fill=\"#e58139\" fill-opacity=\"0.749020\" stroke=\"#000000\" d=\"M194.5,-187C194.5,-187 120.5,-187 120.5,-187 114.5,-187 108.5,-181 108.5,-175 108.5,-175 108.5,-116 108.5,-116 108.5,-110 114.5,-104 120.5,-104 120.5,-104 194.5,-104 194.5,-104 200.5,-104 206.5,-110 206.5,-116 206.5,-116 206.5,-175 206.5,-175 206.5,-181 200.5,-187 194.5,-187\"/>\n",
       "<text text-anchor=\"middle\" x=\"157.5\" y=\"-171.8\" font-family=\"Helvetica,sans-Serif\" font-size=\"14.00\" fill=\"#000000\">Class &lt;= 0.5</text>\n",
       "<text text-anchor=\"middle\" x=\"157.5\" y=\"-156.8\" font-family=\"Helvetica,sans-Serif\" font-size=\"14.00\" fill=\"#000000\">gini = 0.32</text>\n",
       "<text text-anchor=\"middle\" x=\"157.5\" y=\"-141.8\" font-family=\"Helvetica,sans-Serif\" font-size=\"14.00\" fill=\"#000000\">samples = 10</text>\n",
       "<text text-anchor=\"middle\" x=\"157.5\" y=\"-126.8\" font-family=\"Helvetica,sans-Serif\" font-size=\"14.00\" fill=\"#000000\">value = [8, 2]</text>\n",
       "<text text-anchor=\"middle\" x=\"157.5\" y=\"-111.8\" font-family=\"Helvetica,sans-Serif\" font-size=\"14.00\" fill=\"#000000\">class = Play</text>\n",
       "</g>\n",
       "<!-- 0&#45;&gt;1 -->\n",
       "<g id=\"edge1\" class=\"edge\">\n",
       "<title>0&#45;&gt;1</title>\n",
       "<path fill=\"none\" stroke=\"#000000\" d=\"M197.8154,-222.8796C193.3577,-214.3236 188.6166,-205.2238 184.0106,-196.3833\"/>\n",
       "<polygon fill=\"#000000\" stroke=\"#000000\" points=\"187.0017,-194.5494 179.2771,-187.2981 180.7938,-197.7838 187.0017,-194.5494\"/>\n",
       "<text text-anchor=\"middle\" x=\"171.7678\" y=\"-207.4436\" font-family=\"Helvetica,sans-Serif\" font-size=\"14.00\" fill=\"#000000\">True</text>\n",
       "</g>\n",
       "<!-- 4 -->\n",
       "<g id=\"node5\" class=\"node\">\n",
       "<title>4</title>\n",
       "<path fill=\"#399de5\" fill-opacity=\"0.462745\" stroke=\"#000000\" d=\"M328.5,-187C328.5,-187 236.5,-187 236.5,-187 230.5,-187 224.5,-181 224.5,-175 224.5,-175 224.5,-116 224.5,-116 224.5,-110 230.5,-104 236.5,-104 236.5,-104 328.5,-104 328.5,-104 334.5,-104 340.5,-110 340.5,-116 340.5,-116 340.5,-175 340.5,-175 340.5,-181 334.5,-187 328.5,-187\"/>\n",
       "<text text-anchor=\"middle\" x=\"282.5\" y=\"-171.8\" font-family=\"Helvetica,sans-Serif\" font-size=\"14.00\" fill=\"#000000\">Class &lt;= 0.5</text>\n",
       "<text text-anchor=\"middle\" x=\"282.5\" y=\"-156.8\" font-family=\"Helvetica,sans-Serif\" font-size=\"14.00\" fill=\"#000000\">gini = 0.455</text>\n",
       "<text text-anchor=\"middle\" x=\"282.5\" y=\"-141.8\" font-family=\"Helvetica,sans-Serif\" font-size=\"14.00\" fill=\"#000000\">samples = 20</text>\n",
       "<text text-anchor=\"middle\" x=\"282.5\" y=\"-126.8\" font-family=\"Helvetica,sans-Serif\" font-size=\"14.00\" fill=\"#000000\">value = [7, 13]</text>\n",
       "<text text-anchor=\"middle\" x=\"282.5\" y=\"-111.8\" font-family=\"Helvetica,sans-Serif\" font-size=\"14.00\" fill=\"#000000\">class = Not_play</text>\n",
       "</g>\n",
       "<!-- 0&#45;&gt;4 -->\n",
       "<g id=\"edge4\" class=\"edge\">\n",
       "<title>0&#45;&gt;4</title>\n",
       "<path fill=\"none\" stroke=\"#000000\" d=\"M241.5343,-222.8796C246.064,-214.3236 250.8815,-205.2238 255.5618,-196.3833\"/>\n",
       "<polygon fill=\"#000000\" stroke=\"#000000\" points=\"258.7859,-197.7736 260.3716,-187.2981 252.5994,-194.4983 258.7859,-197.7736\"/>\n",
       "<text text-anchor=\"middle\" x=\"267.7238\" y=\"-207.4925\" font-family=\"Helvetica,sans-Serif\" font-size=\"14.00\" fill=\"#000000\">False</text>\n",
       "</g>\n",
       "<!-- 2 -->\n",
       "<g id=\"node3\" class=\"node\">\n",
       "<title>2</title>\n",
       "<path fill=\"#e58139\" stroke=\"#000000\" d=\"M83,-68C83,-68 12,-68 12,-68 6,-68 0,-62 0,-56 0,-56 0,-12 0,-12 0,-6 6,0 12,0 12,0 83,0 83,0 89,0 95,-6 95,-12 95,-12 95,-56 95,-56 95,-62 89,-68 83,-68\"/>\n",
       "<text text-anchor=\"middle\" x=\"47.5\" y=\"-52.8\" font-family=\"Helvetica,sans-Serif\" font-size=\"14.00\" fill=\"#000000\">gini = 0.0</text>\n",
       "<text text-anchor=\"middle\" x=\"47.5\" y=\"-37.8\" font-family=\"Helvetica,sans-Serif\" font-size=\"14.00\" fill=\"#000000\">samples = 2</text>\n",
       "<text text-anchor=\"middle\" x=\"47.5\" y=\"-22.8\" font-family=\"Helvetica,sans-Serif\" font-size=\"14.00\" fill=\"#000000\">value = [2, 0]</text>\n",
       "<text text-anchor=\"middle\" x=\"47.5\" y=\"-7.8\" font-family=\"Helvetica,sans-Serif\" font-size=\"14.00\" fill=\"#000000\">class = Play</text>\n",
       "</g>\n",
       "<!-- 1&#45;&gt;2 -->\n",
       "<g id=\"edge2\" class=\"edge\">\n",
       "<title>1&#45;&gt;2</title>\n",
       "<path fill=\"none\" stroke=\"#000000\" d=\"M116.5401,-103.9815C107.3824,-94.6989 97.6681,-84.8522 88.5085,-75.5677\"/>\n",
       "<polygon fill=\"#000000\" stroke=\"#000000\" points=\"90.8174,-72.9244 81.3027,-68.2637 85.8342,-77.8406 90.8174,-72.9244\"/>\n",
       "</g>\n",
       "<!-- 3 -->\n",
       "<g id=\"node4\" class=\"node\">\n",
       "<title>3</title>\n",
       "<path fill=\"#e58139\" fill-opacity=\"0.666667\" stroke=\"#000000\" d=\"M196,-68C196,-68 125,-68 125,-68 119,-68 113,-62 113,-56 113,-56 113,-12 113,-12 113,-6 119,0 125,0 125,0 196,0 196,0 202,0 208,-6 208,-12 208,-12 208,-56 208,-56 208,-62 202,-68 196,-68\"/>\n",
       "<text text-anchor=\"middle\" x=\"160.5\" y=\"-52.8\" font-family=\"Helvetica,sans-Serif\" font-size=\"14.00\" fill=\"#000000\">gini = 0.375</text>\n",
       "<text text-anchor=\"middle\" x=\"160.5\" y=\"-37.8\" font-family=\"Helvetica,sans-Serif\" font-size=\"14.00\" fill=\"#000000\">samples = 8</text>\n",
       "<text text-anchor=\"middle\" x=\"160.5\" y=\"-22.8\" font-family=\"Helvetica,sans-Serif\" font-size=\"14.00\" fill=\"#000000\">value = [6, 2]</text>\n",
       "<text text-anchor=\"middle\" x=\"160.5\" y=\"-7.8\" font-family=\"Helvetica,sans-Serif\" font-size=\"14.00\" fill=\"#000000\">class = Play</text>\n",
       "</g>\n",
       "<!-- 1&#45;&gt;3 -->\n",
       "<g id=\"edge3\" class=\"edge\">\n",
       "<title>1&#45;&gt;3</title>\n",
       "<path fill=\"none\" stroke=\"#000000\" d=\"M158.6171,-103.9815C158.8421,-95.618 159.0795,-86.7965 159.307,-78.3409\"/>\n",
       "<polygon fill=\"#000000\" stroke=\"#000000\" points=\"162.8078,-78.3542 159.5781,-68.2637 155.8103,-78.1659 162.8078,-78.3542\"/>\n",
       "</g>\n",
       "<!-- 5 -->\n",
       "<g id=\"node6\" class=\"node\">\n",
       "<title>5</title>\n",
       "<path fill=\"#e58139\" fill-opacity=\"0.141176\" stroke=\"#000000\" d=\"M317.5,-68C317.5,-68 243.5,-68 243.5,-68 237.5,-68 231.5,-62 231.5,-56 231.5,-56 231.5,-12 231.5,-12 231.5,-6 237.5,0 243.5,0 243.5,0 317.5,0 317.5,0 323.5,0 329.5,-6 329.5,-12 329.5,-12 329.5,-56 329.5,-56 329.5,-62 323.5,-68 317.5,-68\"/>\n",
       "<text text-anchor=\"middle\" x=\"280.5\" y=\"-52.8\" font-family=\"Helvetica,sans-Serif\" font-size=\"14.00\" fill=\"#000000\">gini = 0.497</text>\n",
       "<text text-anchor=\"middle\" x=\"280.5\" y=\"-37.8\" font-family=\"Helvetica,sans-Serif\" font-size=\"14.00\" fill=\"#000000\">samples = 13</text>\n",
       "<text text-anchor=\"middle\" x=\"280.5\" y=\"-22.8\" font-family=\"Helvetica,sans-Serif\" font-size=\"14.00\" fill=\"#000000\">value = [7, 6]</text>\n",
       "<text text-anchor=\"middle\" x=\"280.5\" y=\"-7.8\" font-family=\"Helvetica,sans-Serif\" font-size=\"14.00\" fill=\"#000000\">class = Play</text>\n",
       "</g>\n",
       "<!-- 4&#45;&gt;5 -->\n",
       "<g id=\"edge5\" class=\"edge\">\n",
       "<title>4&#45;&gt;5</title>\n",
       "<path fill=\"none\" stroke=\"#000000\" d=\"M281.7553,-103.9815C281.6053,-95.618 281.447,-86.7965 281.2954,-78.3409\"/>\n",
       "<polygon fill=\"#000000\" stroke=\"#000000\" points=\"284.7935,-78.1993 281.1146,-68.2637 277.7946,-78.3249 284.7935,-78.1993\"/>\n",
       "</g>\n",
       "<!-- 6 -->\n",
       "<g id=\"node7\" class=\"node\">\n",
       "<title>6</title>\n",
       "<path fill=\"#399de5\" stroke=\"#000000\" d=\"M451.5,-68C451.5,-68 359.5,-68 359.5,-68 353.5,-68 347.5,-62 347.5,-56 347.5,-56 347.5,-12 347.5,-12 347.5,-6 353.5,0 359.5,0 359.5,0 451.5,0 451.5,0 457.5,0 463.5,-6 463.5,-12 463.5,-12 463.5,-56 463.5,-56 463.5,-62 457.5,-68 451.5,-68\"/>\n",
       "<text text-anchor=\"middle\" x=\"405.5\" y=\"-52.8\" font-family=\"Helvetica,sans-Serif\" font-size=\"14.00\" fill=\"#000000\">gini = 0.0</text>\n",
       "<text text-anchor=\"middle\" x=\"405.5\" y=\"-37.8\" font-family=\"Helvetica,sans-Serif\" font-size=\"14.00\" fill=\"#000000\">samples = 7</text>\n",
       "<text text-anchor=\"middle\" x=\"405.5\" y=\"-22.8\" font-family=\"Helvetica,sans-Serif\" font-size=\"14.00\" fill=\"#000000\">value = [0, 7]</text>\n",
       "<text text-anchor=\"middle\" x=\"405.5\" y=\"-7.8\" font-family=\"Helvetica,sans-Serif\" font-size=\"14.00\" fill=\"#000000\">class = Not_play</text>\n",
       "</g>\n",
       "<!-- 4&#45;&gt;6 -->\n",
       "<g id=\"edge6\" class=\"edge\">\n",
       "<title>4&#45;&gt;6</title>\n",
       "<path fill=\"none\" stroke=\"#000000\" d=\"M328.3007,-103.9815C338.7434,-94.5151 349.8333,-84.462 360.2528,-75.0168\"/>\n",
       "<polygon fill=\"#000000\" stroke=\"#000000\" points=\"362.6441,-77.5731 367.7024,-68.2637 357.9428,-72.3868 362.6441,-77.5731\"/>\n",
       "</g>\n",
       "</g>\n",
       "</svg>\n"
      ],
      "text/plain": [
       "<graphviz.files.Source at 0x7f30d1c0d828>"
      ]
     },
     "execution_count": 8,
     "metadata": {},
     "output_type": "execute_result"
    }
   ],
   "source": [
    "clf = DecisionTreeClassifier(criterion='gini',random_state=seed,max_depth=None)\n",
    "clf.fit(X,y)\n",
    "dot_data = export_graphviz(clf, out_file=None, \n",
    "                           feature_names= student_data.columns[1:].values, \n",
    "                           class_names = ['Play','Not_play'],\n",
    "                           rounded=True,filled=True)\n",
    "graph = graphviz.Source(dot_data)\n",
    "graph"
   ]
  },
  {
   "cell_type": "markdown",
   "metadata": {},
   "source": [
    "***\n",
    "## Decision tree using *Entropy* as criterion "
   ]
  },
  {
   "cell_type": "code",
   "execution_count": 9,
   "metadata": {},
   "outputs": [
    {
     "data": {
      "image/svg+xml": [
       "<?xml version=\"1.0\" encoding=\"UTF-8\" standalone=\"no\"?>\n",
       "<!DOCTYPE svg PUBLIC \"-//W3C//DTD SVG 1.1//EN\"\n",
       " \"http://www.w3.org/Graphics/SVG/1.1/DTD/svg11.dtd\">\n",
       "<!-- Generated by graphviz version 2.40.1 (20161225.0304)\n",
       " -->\n",
       "<!-- Title: Tree Pages: 1 -->\n",
       "<svg width=\"254pt\" height=\"195pt\"\n",
       " viewBox=\"0.00 0.00 253.50 195.00\" xmlns=\"http://www.w3.org/2000/svg\" xmlns:xlink=\"http://www.w3.org/1999/xlink\">\n",
       "<g id=\"graph0\" class=\"graph\" transform=\"scale(1 1) rotate(0) translate(4 191)\">\n",
       "<title>Tree</title>\n",
       "<polygon fill=\"#ffffff\" stroke=\"transparent\" points=\"-4,4 -4,-191 249.5,-191 249.5,4 -4,4\"/>\n",
       "<!-- 0 -->\n",
       "<g id=\"node1\" class=\"node\">\n",
       "<title>0</title>\n",
       "<path fill=\"transparent\" stroke=\"#000000\" d=\"M164.5,-187C164.5,-187 78.5,-187 78.5,-187 72.5,-187 66.5,-181 66.5,-175 66.5,-175 66.5,-116 66.5,-116 66.5,-110 72.5,-104 78.5,-104 78.5,-104 164.5,-104 164.5,-104 170.5,-104 176.5,-110 176.5,-116 176.5,-116 176.5,-175 176.5,-175 176.5,-181 170.5,-187 164.5,-187\"/>\n",
       "<text text-anchor=\"middle\" x=\"121.5\" y=\"-171.8\" font-family=\"Helvetica,sans-Serif\" font-size=\"14.00\" fill=\"#000000\">Gender &lt;= 0.5</text>\n",
       "<text text-anchor=\"middle\" x=\"121.5\" y=\"-156.8\" font-family=\"Helvetica,sans-Serif\" font-size=\"14.00\" fill=\"#000000\">entropy = 1.0</text>\n",
       "<text text-anchor=\"middle\" x=\"121.5\" y=\"-141.8\" font-family=\"Helvetica,sans-Serif\" font-size=\"14.00\" fill=\"#000000\">samples = 30</text>\n",
       "<text text-anchor=\"middle\" x=\"121.5\" y=\"-126.8\" font-family=\"Helvetica,sans-Serif\" font-size=\"14.00\" fill=\"#000000\">value = [15, 15]</text>\n",
       "<text text-anchor=\"middle\" x=\"121.5\" y=\"-111.8\" font-family=\"Helvetica,sans-Serif\" font-size=\"14.00\" fill=\"#000000\">class = Play</text>\n",
       "</g>\n",
       "<!-- 1 -->\n",
       "<g id=\"node2\" class=\"node\">\n",
       "<title>1</title>\n",
       "<path fill=\"#e58139\" fill-opacity=\"0.749020\" stroke=\"#000000\" d=\"M99,-68C99,-68 12,-68 12,-68 6,-68 0,-62 0,-56 0,-56 0,-12 0,-12 0,-6 6,0 12,0 12,0 99,0 99,0 105,0 111,-6 111,-12 111,-12 111,-56 111,-56 111,-62 105,-68 99,-68\"/>\n",
       "<text text-anchor=\"middle\" x=\"55.5\" y=\"-52.8\" font-family=\"Helvetica,sans-Serif\" font-size=\"14.00\" fill=\"#000000\">entropy = 0.722</text>\n",
       "<text text-anchor=\"middle\" x=\"55.5\" y=\"-37.8\" font-family=\"Helvetica,sans-Serif\" font-size=\"14.00\" fill=\"#000000\">samples = 10</text>\n",
       "<text text-anchor=\"middle\" x=\"55.5\" y=\"-22.8\" font-family=\"Helvetica,sans-Serif\" font-size=\"14.00\" fill=\"#000000\">value = [8, 2]</text>\n",
       "<text text-anchor=\"middle\" x=\"55.5\" y=\"-7.8\" font-family=\"Helvetica,sans-Serif\" font-size=\"14.00\" fill=\"#000000\">class = Play</text>\n",
       "</g>\n",
       "<!-- 0&#45;&gt;1 -->\n",
       "<g id=\"edge1\" class=\"edge\">\n",
       "<title>0&#45;&gt;1</title>\n",
       "<path fill=\"none\" stroke=\"#000000\" d=\"M96.924,-103.9815C91.7014,-95.1585 86.1771,-85.8258 80.9237,-76.9506\"/>\n",
       "<polygon fill=\"#000000\" stroke=\"#000000\" points=\"83.8874,-75.0863 75.7816,-68.2637 77.8636,-78.652 83.8874,-75.0863\"/>\n",
       "<text text-anchor=\"middle\" x=\"69.5739\" y=\"-88.7807\" font-family=\"Helvetica,sans-Serif\" font-size=\"14.00\" fill=\"#000000\">True</text>\n",
       "</g>\n",
       "<!-- 2 -->\n",
       "<g id=\"node3\" class=\"node\">\n",
       "<title>2</title>\n",
       "<path fill=\"#399de5\" fill-opacity=\"0.462745\" stroke=\"#000000\" d=\"M233.5,-68C233.5,-68 141.5,-68 141.5,-68 135.5,-68 129.5,-62 129.5,-56 129.5,-56 129.5,-12 129.5,-12 129.5,-6 135.5,0 141.5,0 141.5,0 233.5,0 233.5,0 239.5,0 245.5,-6 245.5,-12 245.5,-12 245.5,-56 245.5,-56 245.5,-62 239.5,-68 233.5,-68\"/>\n",
       "<text text-anchor=\"middle\" x=\"187.5\" y=\"-52.8\" font-family=\"Helvetica,sans-Serif\" font-size=\"14.00\" fill=\"#000000\">entropy = 0.934</text>\n",
       "<text text-anchor=\"middle\" x=\"187.5\" y=\"-37.8\" font-family=\"Helvetica,sans-Serif\" font-size=\"14.00\" fill=\"#000000\">samples = 20</text>\n",
       "<text text-anchor=\"middle\" x=\"187.5\" y=\"-22.8\" font-family=\"Helvetica,sans-Serif\" font-size=\"14.00\" fill=\"#000000\">value = [7, 13]</text>\n",
       "<text text-anchor=\"middle\" x=\"187.5\" y=\"-7.8\" font-family=\"Helvetica,sans-Serif\" font-size=\"14.00\" fill=\"#000000\">class = Not_play</text>\n",
       "</g>\n",
       "<!-- 0&#45;&gt;2 -->\n",
       "<g id=\"edge2\" class=\"edge\">\n",
       "<title>0&#45;&gt;2</title>\n",
       "<path fill=\"none\" stroke=\"#000000\" d=\"M146.076,-103.9815C151.2986,-95.1585 156.8229,-85.8258 162.0763,-76.9506\"/>\n",
       "<polygon fill=\"#000000\" stroke=\"#000000\" points=\"165.1364,-78.652 167.2184,-68.2637 159.1126,-75.0863 165.1364,-78.652\"/>\n",
       "<text text-anchor=\"middle\" x=\"173.4261\" y=\"-88.7807\" font-family=\"Helvetica,sans-Serif\" font-size=\"14.00\" fill=\"#000000\">False</text>\n",
       "</g>\n",
       "</g>\n",
       "</svg>\n"
      ],
      "text/plain": [
       "<graphviz.files.Source at 0x7f30d1c0d908>"
      ]
     },
     "execution_count": 9,
     "metadata": {},
     "output_type": "execute_result"
    }
   ],
   "source": [
    "clf = DecisionTreeClassifier(criterion='entropy',random_state=seed,max_depth=1)\n",
    "clf.fit(X,y)\n",
    "dot_data = export_graphviz(clf, out_file=None, \n",
    "                           feature_names= student_data.columns[1:].values, \n",
    "                           class_names = ['Play','Not_play'],\n",
    "                           rounded=True,filled=True)\n",
    "graph = graphviz.Source(dot_data)\n",
    "graph"
   ]
  },
  {
   "cell_type": "code",
   "execution_count": 10,
   "metadata": {},
   "outputs": [
    {
     "name": "stdout",
     "output_type": "stream",
     "text": [
      "H_female 0.7219280948873623 \n",
      "H_male 0.9340680553754911 \n",
      "\n",
      "H_Gender 1.0 \n",
      "EH 0.8633547352127815 \n",
      "I_gender 0.1366452647872185\n"
     ]
    }
   ],
   "source": [
    "#Entropy for Gender Female 10/30 and Male 20/30\n",
    "H_female = -2/10 * np.log2(2/10) - 8/10 * np.log2(8/10) # H(F)\n",
    "H_male = -7/20 * np.log2(7/20) - 13/20 * np.log2(13/20) # H(M)\n",
    "H_Gender = -15/30* np.log2(15/30) -15/30* np.log2(15/30) # H(Gender)\n",
    "\n",
    "# Weighted entropy\n",
    "EH = 10/30 * H_female + 20/30 * H_male \n",
    "\n",
    "#Information Gain\n",
    "I_gender = H_Gender - EH\n",
    "print('H_female',H_female,'\\nH_male',H_male,'\\n\\nH_Gender',H_Gender,'\\nEH',EH,'\\nI_gender',I_gender)"
   ]
  },
  {
   "cell_type": "code",
   "execution_count": 11,
   "metadata": {},
   "outputs": [
    {
     "name": "stdout",
     "output_type": "stream",
     "text": [
      "H_IX 0.933658843825451 \n",
      "H_X 0.9975562489182658 \n",
      "\n",
      "H_Class 1.0 \n",
      "EH 0.9762571138873275 \n",
      "I_Class 0.0237428861126725\n"
     ]
    }
   ],
   "source": [
    "#Entropy for class attributes IX  play 6/14 class X 9/16\n",
    "H_IX = -6/14 * np.log2(6/14) - 9/14 * np.log2(9/14) # H(IX)\n",
    "H_X = - 9/16 *np.log2(9/16) - 6/16 * np.log2(6/16) # H(X)\n",
    "H_Class = -15/30* np.log2(15/30) -15/30* np.log2(15/30) # H(Gender)\n",
    "\n",
    "# Weighted entropy / Excepted entropy\n",
    "EH = 10/30 * H_IX + 20/30 * H_X\n",
    "\n",
    "#Information Gain\n",
    "I_Class = H_Class - EH\n",
    "print('H_IX',H_IX,'\\nH_X',H_X,'\\n\\nH_Class',H_Class,'\\nEH',EH,'\\nI_Class',I_Class)"
   ]
  },
  {
   "cell_type": "markdown",
   "metadata": {},
   "source": [
    "> The Information Gain for **Gender** is > than Information gain for **Class**."
   ]
  },
  {
   "cell_type": "markdown",
   "metadata": {},
   "source": [
    "***\n",
    "## Decision tree using *Variance reduction /MSE(Mean square error)* as criterion "
   ]
  },
  {
   "cell_type": "code",
   "execution_count": 12,
   "metadata": {},
   "outputs": [
    {
     "data": {
      "image/svg+xml": [
       "<?xml version=\"1.0\" encoding=\"UTF-8\" standalone=\"no\"?>\n",
       "<!DOCTYPE svg PUBLIC \"-//W3C//DTD SVG 1.1//EN\"\n",
       " \"http://www.w3.org/Graphics/SVG/1.1/DTD/svg11.dtd\">\n",
       "<!-- Generated by graphviz version 2.40.1 (20161225.0304)\n",
       " -->\n",
       "<!-- Title: Tree Pages: 1 -->\n",
       "<svg width=\"222pt\" height=\"165pt\"\n",
       " viewBox=\"0.00 0.00 222.00 165.00\" xmlns=\"http://www.w3.org/2000/svg\" xmlns:xlink=\"http://www.w3.org/1999/xlink\">\n",
       "<g id=\"graph0\" class=\"graph\" transform=\"scale(1 1) rotate(0) translate(4 161)\">\n",
       "<title>Tree</title>\n",
       "<polygon fill=\"#ffffff\" stroke=\"transparent\" points=\"-4,4 -4,-161 218,-161 218,4 -4,4\"/>\n",
       "<!-- 0 -->\n",
       "<g id=\"node1\" class=\"node\">\n",
       "<title>0</title>\n",
       "<path fill=\"#e58139\" fill-opacity=\"0.666667\" stroke=\"#000000\" d=\"M147.5,-157C147.5,-157 66.5,-157 66.5,-157 60.5,-157 54.5,-151 54.5,-145 54.5,-145 54.5,-101 54.5,-101 54.5,-95 60.5,-89 66.5,-89 66.5,-89 147.5,-89 147.5,-89 153.5,-89 159.5,-95 159.5,-101 159.5,-101 159.5,-145 159.5,-145 159.5,-151 153.5,-157 147.5,-157\"/>\n",
       "<text text-anchor=\"middle\" x=\"107\" y=\"-141.8\" font-family=\"Helvetica,sans-Serif\" font-size=\"14.00\" fill=\"#000000\">Gender &lt;= 0.5</text>\n",
       "<text text-anchor=\"middle\" x=\"107\" y=\"-126.8\" font-family=\"Helvetica,sans-Serif\" font-size=\"14.00\" fill=\"#000000\">mse = 0.25</text>\n",
       "<text text-anchor=\"middle\" x=\"107\" y=\"-111.8\" font-family=\"Helvetica,sans-Serif\" font-size=\"14.00\" fill=\"#000000\">samples = 30</text>\n",
       "<text text-anchor=\"middle\" x=\"107\" y=\"-96.8\" font-family=\"Helvetica,sans-Serif\" font-size=\"14.00\" fill=\"#000000\">value = 0.5</text>\n",
       "</g>\n",
       "<!-- 1 -->\n",
       "<g id=\"node2\" class=\"node\">\n",
       "<title>1</title>\n",
       "<path fill=\"transparent\" stroke=\"#000000\" d=\"M86,-53C86,-53 12,-53 12,-53 6,-53 0,-47 0,-41 0,-41 0,-12 0,-12 0,-6 6,0 12,0 12,0 86,0 86,0 92,0 98,-6 98,-12 98,-12 98,-41 98,-41 98,-47 92,-53 86,-53\"/>\n",
       "<text text-anchor=\"middle\" x=\"49\" y=\"-37.8\" font-family=\"Helvetica,sans-Serif\" font-size=\"14.00\" fill=\"#000000\">mse = 0.16</text>\n",
       "<text text-anchor=\"middle\" x=\"49\" y=\"-22.8\" font-family=\"Helvetica,sans-Serif\" font-size=\"14.00\" fill=\"#000000\">samples = 10</text>\n",
       "<text text-anchor=\"middle\" x=\"49\" y=\"-7.8\" font-family=\"Helvetica,sans-Serif\" font-size=\"14.00\" fill=\"#000000\">value = 0.2</text>\n",
       "</g>\n",
       "<!-- 0&#45;&gt;1 -->\n",
       "<g id=\"edge1\" class=\"edge\">\n",
       "<title>0&#45;&gt;1</title>\n",
       "<path fill=\"none\" stroke=\"#000000\" d=\"M86.5514,-88.9777C81.2678,-80.187 75.5684,-70.7044 70.2452,-61.8477\"/>\n",
       "<polygon fill=\"#000000\" stroke=\"#000000\" points=\"73.2282,-60.0165 65.0768,-53.2485 67.2285,-63.6225 73.2282,-60.0165\"/>\n",
       "<text text-anchor=\"middle\" x=\"59.0319\" y=\"-73.8067\" font-family=\"Helvetica,sans-Serif\" font-size=\"14.00\" fill=\"#000000\">True</text>\n",
       "</g>\n",
       "<!-- 2 -->\n",
       "<g id=\"node3\" class=\"node\">\n",
       "<title>2</title>\n",
       "<path fill=\"#e58139\" stroke=\"#000000\" d=\"M202,-53C202,-53 128,-53 128,-53 122,-53 116,-47 116,-41 116,-41 116,-12 116,-12 116,-6 122,0 128,0 128,0 202,0 202,0 208,0 214,-6 214,-12 214,-12 214,-41 214,-41 214,-47 208,-53 202,-53\"/>\n",
       "<text text-anchor=\"middle\" x=\"165\" y=\"-37.8\" font-family=\"Helvetica,sans-Serif\" font-size=\"14.00\" fill=\"#000000\">mse = 0.227</text>\n",
       "<text text-anchor=\"middle\" x=\"165\" y=\"-22.8\" font-family=\"Helvetica,sans-Serif\" font-size=\"14.00\" fill=\"#000000\">samples = 20</text>\n",
       "<text text-anchor=\"middle\" x=\"165\" y=\"-7.8\" font-family=\"Helvetica,sans-Serif\" font-size=\"14.00\" fill=\"#000000\">value = 0.65</text>\n",
       "</g>\n",
       "<!-- 0&#45;&gt;2 -->\n",
       "<g id=\"edge2\" class=\"edge\">\n",
       "<title>0&#45;&gt;2</title>\n",
       "<path fill=\"none\" stroke=\"#000000\" d=\"M127.4486,-88.9777C132.7322,-80.187 138.4316,-70.7044 143.7548,-61.8477\"/>\n",
       "<polygon fill=\"#000000\" stroke=\"#000000\" points=\"146.7715,-63.6225 148.9232,-53.2485 140.7718,-60.0165 146.7715,-63.6225\"/>\n",
       "<text text-anchor=\"middle\" x=\"154.9681\" y=\"-73.8067\" font-family=\"Helvetica,sans-Serif\" font-size=\"14.00\" fill=\"#000000\">False</text>\n",
       "</g>\n",
       "</g>\n",
       "</svg>\n"
      ],
      "text/plain": [
       "<graphviz.files.Source at 0x7f30d1bcd4e0>"
      ]
     },
     "execution_count": 12,
     "metadata": {},
     "output_type": "execute_result"
    }
   ],
   "source": [
    "from sklearn.tree import DecisionTreeRegressor\n",
    "clf = DecisionTreeRegressor(max_depth=1,random_state=seed)\n",
    "clf.fit(X,y)\n",
    "dot_data = export_graphviz(clf, out_file=None, \n",
    "                           feature_names= student_data.columns[1:].values, \n",
    "                           class_names = ['Play','Not_play'],\n",
    "                           rounded=True,filled=True)\n",
    "graph = graphviz.Source(dot_data)\n",
    "graph"
   ]
  },
  {
   "cell_type": "code",
   "execution_count": 24,
   "metadata": {},
   "outputs": [
    {
     "data": {
      "text/plain": [
       "(0.25, 0.20500000000000002)"
      ]
     },
     "execution_count": 24,
     "metadata": {},
     "output_type": "execute_result"
    }
   ],
   "source": [
    "mse_cri = np.var(y)\n",
    "mu_female = (1*2 + 0*8) /10\n",
    "V_female = (1- mu_female)**2*2/10 + (0- mu_female)**2*8/10\n",
    "\n",
    "mu_male = (1*13 + 0*7) /20\n",
    "V_male = (1- mu_male)**2*13/20 + (0- mu_male)**2*7/20\n",
    "\n",
    "# Reduction in variance\n",
    "V_gender = 10/30 * V_female + 20/30 * V_male\n",
    "mse_cri,V_gender"
   ]
  },
  {
   "cell_type": "code",
   "execution_count": 26,
   "metadata": {},
   "outputs": [
    {
     "data": {
      "text/plain": [
       "0.22750000000000004"
      ]
     },
     "execution_count": 26,
     "metadata": {},
     "output_type": "execute_result"
    }
   ],
   "source": [
    "V_male"
   ]
  },
  {
   "cell_type": "code",
   "execution_count": null,
   "metadata": {},
   "outputs": [],
   "source": []
  }
 ],
 "metadata": {
  "kernelspec": {
   "display_name": "Python 3",
   "language": "python",
   "name": "python3"
  },
  "language_info": {
   "codemirror_mode": {
    "name": "ipython",
    "version": 3
   },
   "file_extension": ".py",
   "mimetype": "text/x-python",
   "name": "python",
   "nbconvert_exporter": "python",
   "pygments_lexer": "ipython3",
   "version": "3.6.5"
  }
 },
 "nbformat": 4,
 "nbformat_minor": 2
}
